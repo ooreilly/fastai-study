{
 "cells": [
  {
   "cell_type": "markdown",
   "metadata": {},
   "source": [
    "Show that $tr(AB) = tr(BA)$ for $A\\in \\mathbb{R}^{m \\times n}$ and $B \\in \\mathbb{R}^{n \\times m}$."
   ]
  },
  {
   "cell_type": "markdown",
   "metadata": {},
   "source": [
    "<details>\n",
    "<summary>Solution</summary>\n",
    "Proof.\n",
    "Let $C = AB$. The definition of the trace is $tr(C) = \\sum_{k=1}^m C_{kk}$. We are therefore asked to show \n",
    "$$ \\sum_{k=1}^m C_{kk} = \\sum_{l=1}^n(BA)_{ll}. $$\n",
    "\n",
    "Recall the definition of matrix multiplication: $C_{ij} = \\sum_{l=1}^n A_{il}B_{lj}$. We get\n",
    "$$\\sum_{k=1}^m C_{kk} = \\sum_{k=1}^m (AB)_{kk} = \\sum_{k=1}^m \\sum_{l=1}^n A_{kl}B_{lk}. $$ Since $A_{lk}$ and $B_{lk}$ are scalars, they commute and we can reorder them. We can also exchange the order of summation to obtain\n",
    "$$\\sum_{k=1}^m C_{kk} = \\sum_{k=1}^m \\sum_{l=1}^n A_{kl}B_{lk} = \\sum_{l=1}^n  \\sum_{k=1}^m  B_{lk}  A_{kl}= \\sum_{l=1}^n (BA)_{ll} = tr(BA),$$ which completes the proof.\n",
    "</details>"
   ]
  }
 ],
 "metadata": {
  "kernelspec": {
   "display_name": "Python 3",
   "language": "python",
   "name": "python3"
  },
  "language_info": {
   "codemirror_mode": {
    "name": "ipython",
    "version": 3
   },
   "file_extension": ".py",
   "mimetype": "text/x-python",
   "name": "python",
   "nbconvert_exporter": "python",
   "pygments_lexer": "ipython3",
   "version": "3.8.2"
  }
 },
 "nbformat": 4,
 "nbformat_minor": 4
}
