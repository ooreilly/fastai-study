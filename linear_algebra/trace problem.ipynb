{
 "cells": [
  {
   "cell_type": "markdown",
   "metadata": {},
   "source": [
    "Show that $tr(AB) = tr(BA)$ for $A\\in \\mathbb{R}^{m \\times n}$ and $B \\in \\mathbb{R}^{n \\times m}$."
   ]
  },
  {
   "cell_type": "markdown",
   "metadata": {},
   "source": [
    "<details>\n",
    "<summary>Solution</summary>\n",
    "Proof.\n",
    "Let $C = AB$. The definition of the trace is $tr(C) = \\sum_{k=1}^m C_{k,k}$. We are therefore asked to show \n",
    "$$ \\sum_{k=1}^m C_{k,k} = \\sum_{l=1}^n(BA)_{l,l}. $$\n",
    "\n",
    "Recall the definition of matrix multiplication: $C_{i,j} = \\sum_{l=1}^n A_{i,l}B_{l,j}$. We get\n",
    "$$\\sum_{k=1}^m C_{k,k} = \\sum_{k=1}^m (AB)_{k,k} = \\sum_{k=1}^m \\sum_{l=1}^n A_{k,l}B_{l,k}. $$ Since $A_{l,k}$ and $B_{l,k}$ are scalars, they commute and we can reorder them. We can also exchange the order of summation to obtain\n",
    "$$\\sum_{k=1}^m C_{k,k} = \\sum_{k=1}^m \\sum_{l=1}^n A_{k,l}B_{l,k} = \\sum_{l=1}^n  \\sum_{k=1}^m  B_{l,k}  A_{k,l}= \\sum_{l=1}^n (BA)_{l,l} = tr(BA),$$ which completes the proof.\n",
    "</details>"
   ]
  }
 ],
 "metadata": {
  "kernelspec": {
   "display_name": "Python 3",
   "language": "python",
   "name": "python3"
  },
  "language_info": {
   "codemirror_mode": {
    "name": "ipython",
    "version": 3
   },
   "file_extension": ".py",
   "mimetype": "text/x-python",
   "name": "python",
   "nbconvert_exporter": "python",
   "pygments_lexer": "ipython3",
   "version": "3.8.2"
  }
 },
 "nbformat": 4,
 "nbformat_minor": 4
}
